{
 "cells": [
  {
   "cell_type": "markdown",
   "metadata": {
    "toc": true
   },
   "source": [
    "<h1>Table of Contents<span class=\"tocSkip\"></span></h1>\n",
    "<div class=\"toc\"><ul class=\"toc-item\"><li><span><a href=\"#Evaluation-of-the-market-value-of-the-car\" data-toc-modified-id=\"Evaluation-of-the-market-value-of-the-car-1\"><span class=\"toc-item-num\">1&nbsp;&nbsp;</span>Evaluation of the market value of the car</a></span><ul class=\"toc-item\"><li><span><a href=\"#Features-descriprion\" data-toc-modified-id=\"Features-descriprion-1.1\"><span class=\"toc-item-num\">1.1&nbsp;&nbsp;</span>Features descriprion</a></span></li></ul></li><li><span><a href=\"#1.-Data-preprocessing\" data-toc-modified-id=\"1.-Data-preprocessing-2\"><span class=\"toc-item-num\">2&nbsp;&nbsp;</span>1. Data preprocessing</a></span><ul class=\"toc-item\"><li><span><a href=\"#Viewing-data\" data-toc-modified-id=\"Viewing-data-2.1\"><span class=\"toc-item-num\">2.1&nbsp;&nbsp;</span>Viewing data</a></span></li><li><span><a href=\"#Preprocessing-data-for-work\" data-toc-modified-id=\"Preprocessing-data-for-work-2.2\"><span class=\"toc-item-num\">2.2&nbsp;&nbsp;</span>Preprocessing data for work</a></span><ul class=\"toc-item\"><li><span><a href=\"#Handling-anomalous-values\" data-toc-modified-id=\"Handling-anomalous-values-2.2.1\"><span class=\"toc-item-num\">2.2.1&nbsp;&nbsp;</span>Handling anomalous values</a></span></li><li><span><a href=\"#Processing-NaN's\" data-toc-modified-id=\"Processing-NaN's-2.2.2\"><span class=\"toc-item-num\">2.2.2&nbsp;&nbsp;</span>Processing NaN's</a></span></li></ul></li></ul></li><li><span><a href=\"#Models-training\" data-toc-modified-id=\"Models-training-3\"><span class=\"toc-item-num\">3&nbsp;&nbsp;</span>Models training</a></span><ul class=\"toc-item\"><li><ul class=\"toc-item\"><li><span><a href=\"#Data-normalization\" data-toc-modified-id=\"Data-normalization-3.0.1\"><span class=\"toc-item-num\">3.0.1&nbsp;&nbsp;</span>Data normalization</a></span></li></ul></li><li><span><a href=\"#CatBoostRegressor\" data-toc-modified-id=\"CatBoostRegressor-3.1\"><span class=\"toc-item-num\">3.1&nbsp;&nbsp;</span>CatBoostRegressor</a></span><ul class=\"toc-item\"><li><span><a href=\"#CatBoostRegressor---different-params\" data-toc-modified-id=\"CatBoostRegressor---different-params-3.1.1\"><span class=\"toc-item-num\">3.1.1&nbsp;&nbsp;</span>CatBoostRegressor - different params</a></span><ul class=\"toc-item\"><li><span><a href=\"#Tree-depth\" data-toc-modified-id=\"Tree-depth-3.1.1.1\"><span class=\"toc-item-num\">3.1.1.1&nbsp;&nbsp;</span>Tree depth</a></span></li><li><span><a href=\"#Learning-rate\" data-toc-modified-id=\"Learning-rate-3.1.1.2\"><span class=\"toc-item-num\">3.1.1.2&nbsp;&nbsp;</span>Learning rate</a></span></li></ul></li></ul></li><li><span><a href=\"#LightGBM\" data-toc-modified-id=\"LightGBM-3.2\"><span class=\"toc-item-num\">3.2&nbsp;&nbsp;</span>LightGBM</a></span></li><li><span><a href=\"#LinearRegression\" data-toc-modified-id=\"LinearRegression-3.3\"><span class=\"toc-item-num\">3.3&nbsp;&nbsp;</span>LinearRegression</a></span></li><li><span><a href=\"#RandomForestRegressor\" data-toc-modified-id=\"RandomForestRegressor-3.4\"><span class=\"toc-item-num\">3.4&nbsp;&nbsp;</span>RandomForestRegressor</a></span></li><li><span><a href=\"#DecisionTreeRegressor\" data-toc-modified-id=\"DecisionTreeRegressor-3.5\"><span class=\"toc-item-num\">3.5&nbsp;&nbsp;</span>DecisionTreeRegressor</a></span></li><li><span><a href=\"#DummyRegressor\" data-toc-modified-id=\"DummyRegressor-3.6\"><span class=\"toc-item-num\">3.6&nbsp;&nbsp;</span>DummyRegressor</a></span></li></ul></li><li><span><a href=\"#Comparing-models\" data-toc-modified-id=\"Comparing-models-4\"><span class=\"toc-item-num\">4&nbsp;&nbsp;</span>Comparing models</a></span></li></ul></div>"
   ]
  },
  {
   "cell_type": "markdown",
   "metadata": {},
   "source": [
    "# Evaluation of the market value of the car"
   ]
  },
  {
   "cell_type": "markdown",
   "metadata": {},
   "source": [
    "There are historical data: technical characteristics, configuration and prices of cars. You need to build a model to determine the cost.\n",
    "\n",
    "Important:\n",
    "- the quality of the prediction;\n",
    "- prediction speed;\n",
    "- training time."
   ]
  },
  {
   "cell_type": "markdown",
   "metadata": {},
   "source": [
    "## Features descriprion\n",
    "\n",
    "**Features**\n",
    "- DateCrawled - date of downloading the questionnaire from the database\n",
    "- VehicleType - type of car body\n",
    "- RegistrationYear - year of vehicle registration\n",
    "- Gearbox - type of gearbox\n",
    "- Power - power (l. From.)\n",
    "- Model - car model\n",
    "- Kilometer - mileage (km)\n",
    "- RegistrationMonth - month of vehicle registration\n",
    "- FuelType - fuel type\n",
    "- Brand - car brand\n",
    "- NotRepaired - was the car being repaired or not\n",
    "- DateCreated - date of creation of the profile\n",
    "- NumberOfPictures - number of car photos\n",
    "- PostalCode - postal code of the profile owner (user)\n",
    "- LastSeen - date of last user activity\n",
    "\n",
    "**Target feature**\n",
    "  \n",
    "- Price - price (euro)"
   ]
  },
  {
   "cell_type": "markdown",
   "metadata": {},
   "source": [
    "# 1. Data preprocessing"
   ]
  },
  {
   "cell_type": "code",
   "execution_count": 1,
   "metadata": {},
   "outputs": [],
   "source": [
    "import time\n",
    "import numpy as np\n",
    "import pandas as pd\n",
    "import matplotlib.pyplot as plt\n",
    "import seaborn as sns\n",
    "\n",
    "from sklearn.linear_model import LinearRegression\n",
    "from sklearn.tree import DecisionTreeClassifier\n",
    "from sklearn.tree import DecisionTreeRegressor\n",
    "from sklearn.neighbors import KNeighborsClassifier\n",
    "from sklearn.ensemble import RandomForestRegressor\n",
    "from sklearn.model_selection import cross_val_score\n",
    "from catboost import CatBoostClassifier\n",
    "from catboost import CatBoostRegressor\n",
    "from sklearn.dummy import DummyRegressor\n",
    "import lightgbm as lgb\n",
    "\n",
    "from sklearn.model_selection import train_test_split\n",
    "\n",
    "from sklearn.metrics import roc_auc_score\n",
    "from sklearn.metrics import r2_score\n",
    "from sklearn.metrics import mean_squared_error\n",
    "\n",
    "from math import sqrt\n",
    "\n",
    "from sklearn.preprocessing import OrdinalEncoder\n",
    "from sklearn.preprocessing import OneHotEncoder\n",
    "from sklearn.preprocessing import StandardScaler\n",
    "\n",
    "from IPython.display import display\n",
    "import warnings\n",
    "warnings.filterwarnings(\"ignore\")"
   ]
  },
  {
   "cell_type": "code",
   "execution_count": 2,
   "metadata": {},
   "outputs": [],
   "source": [
    "data = pd.read_csv('autos.csv')"
   ]
  },
  {
   "cell_type": "markdown",
   "metadata": {},
   "source": [
    "## Viewing data"
   ]
  },
  {
   "cell_type": "code",
   "execution_count": 3,
   "metadata": {},
   "outputs": [],
   "source": [
    "def info(x):\n",
    "    return  x.info(), display(x.head()), display(x.describe().astype(int))"
   ]
  },
  {
   "cell_type": "code",
   "execution_count": 4,
   "metadata": {},
   "outputs": [
    {
     "name": "stdout",
     "output_type": "stream",
     "text": [
      "<class 'pandas.core.frame.DataFrame'>\n",
      "RangeIndex: 354369 entries, 0 to 354368\n",
      "Data columns (total 16 columns):\n",
      " #   Column             Non-Null Count   Dtype \n",
      "---  ------             --------------   ----- \n",
      " 0   DateCrawled        354369 non-null  object\n",
      " 1   Price              354369 non-null  int64 \n",
      " 2   VehicleType        316879 non-null  object\n",
      " 3   RegistrationYear   354369 non-null  int64 \n",
      " 4   Gearbox            334536 non-null  object\n",
      " 5   Power              354369 non-null  int64 \n",
      " 6   Model              334664 non-null  object\n",
      " 7   Kilometer          354369 non-null  int64 \n",
      " 8   RegistrationMonth  354369 non-null  int64 \n",
      " 9   FuelType           321474 non-null  object\n",
      " 10  Brand              354369 non-null  object\n",
      " 11  NotRepaired        283215 non-null  object\n",
      " 12  DateCreated        354369 non-null  object\n",
      " 13  NumberOfPictures   354369 non-null  int64 \n",
      " 14  PostalCode         354369 non-null  int64 \n",
      " 15  LastSeen           354369 non-null  object\n",
      "dtypes: int64(7), object(9)\n",
      "memory usage: 43.3+ MB\n"
     ]
    },
    {
     "data": {
      "text/html": [
       "<div>\n",
       "<style scoped>\n",
       "    .dataframe tbody tr th:only-of-type {\n",
       "        vertical-align: middle;\n",
       "    }\n",
       "\n",
       "    .dataframe tbody tr th {\n",
       "        vertical-align: top;\n",
       "    }\n",
       "\n",
       "    .dataframe thead th {\n",
       "        text-align: right;\n",
       "    }\n",
       "</style>\n",
       "<table border=\"1\" class=\"dataframe\">\n",
       "  <thead>\n",
       "    <tr style=\"text-align: right;\">\n",
       "      <th></th>\n",
       "      <th>DateCrawled</th>\n",
       "      <th>Price</th>\n",
       "      <th>VehicleType</th>\n",
       "      <th>RegistrationYear</th>\n",
       "      <th>Gearbox</th>\n",
       "      <th>Power</th>\n",
       "      <th>Model</th>\n",
       "      <th>Kilometer</th>\n",
       "      <th>RegistrationMonth</th>\n",
       "      <th>FuelType</th>\n",
       "      <th>Brand</th>\n",
       "      <th>NotRepaired</th>\n",
       "      <th>DateCreated</th>\n",
       "      <th>NumberOfPictures</th>\n",
       "      <th>PostalCode</th>\n",
       "      <th>LastSeen</th>\n",
       "    </tr>\n",
       "  </thead>\n",
       "  <tbody>\n",
       "    <tr>\n",
       "      <th>0</th>\n",
       "      <td>2016-03-24 11:52:17</td>\n",
       "      <td>480</td>\n",
       "      <td>NaN</td>\n",
       "      <td>1993</td>\n",
       "      <td>manual</td>\n",
       "      <td>0</td>\n",
       "      <td>golf</td>\n",
       "      <td>150000</td>\n",
       "      <td>0</td>\n",
       "      <td>petrol</td>\n",
       "      <td>volkswagen</td>\n",
       "      <td>NaN</td>\n",
       "      <td>2016-03-24 00:00:00</td>\n",
       "      <td>0</td>\n",
       "      <td>70435</td>\n",
       "      <td>2016-04-07 03:16:57</td>\n",
       "    </tr>\n",
       "    <tr>\n",
       "      <th>1</th>\n",
       "      <td>2016-03-24 10:58:45</td>\n",
       "      <td>18300</td>\n",
       "      <td>coupe</td>\n",
       "      <td>2011</td>\n",
       "      <td>manual</td>\n",
       "      <td>190</td>\n",
       "      <td>NaN</td>\n",
       "      <td>125000</td>\n",
       "      <td>5</td>\n",
       "      <td>gasoline</td>\n",
       "      <td>audi</td>\n",
       "      <td>yes</td>\n",
       "      <td>2016-03-24 00:00:00</td>\n",
       "      <td>0</td>\n",
       "      <td>66954</td>\n",
       "      <td>2016-04-07 01:46:50</td>\n",
       "    </tr>\n",
       "    <tr>\n",
       "      <th>2</th>\n",
       "      <td>2016-03-14 12:52:21</td>\n",
       "      <td>9800</td>\n",
       "      <td>suv</td>\n",
       "      <td>2004</td>\n",
       "      <td>auto</td>\n",
       "      <td>163</td>\n",
       "      <td>grand</td>\n",
       "      <td>125000</td>\n",
       "      <td>8</td>\n",
       "      <td>gasoline</td>\n",
       "      <td>jeep</td>\n",
       "      <td>NaN</td>\n",
       "      <td>2016-03-14 00:00:00</td>\n",
       "      <td>0</td>\n",
       "      <td>90480</td>\n",
       "      <td>2016-04-05 12:47:46</td>\n",
       "    </tr>\n",
       "    <tr>\n",
       "      <th>3</th>\n",
       "      <td>2016-03-17 16:54:04</td>\n",
       "      <td>1500</td>\n",
       "      <td>small</td>\n",
       "      <td>2001</td>\n",
       "      <td>manual</td>\n",
       "      <td>75</td>\n",
       "      <td>golf</td>\n",
       "      <td>150000</td>\n",
       "      <td>6</td>\n",
       "      <td>petrol</td>\n",
       "      <td>volkswagen</td>\n",
       "      <td>no</td>\n",
       "      <td>2016-03-17 00:00:00</td>\n",
       "      <td>0</td>\n",
       "      <td>91074</td>\n",
       "      <td>2016-03-17 17:40:17</td>\n",
       "    </tr>\n",
       "    <tr>\n",
       "      <th>4</th>\n",
       "      <td>2016-03-31 17:25:20</td>\n",
       "      <td>3600</td>\n",
       "      <td>small</td>\n",
       "      <td>2008</td>\n",
       "      <td>manual</td>\n",
       "      <td>69</td>\n",
       "      <td>fabia</td>\n",
       "      <td>90000</td>\n",
       "      <td>7</td>\n",
       "      <td>gasoline</td>\n",
       "      <td>skoda</td>\n",
       "      <td>no</td>\n",
       "      <td>2016-03-31 00:00:00</td>\n",
       "      <td>0</td>\n",
       "      <td>60437</td>\n",
       "      <td>2016-04-06 10:17:21</td>\n",
       "    </tr>\n",
       "  </tbody>\n",
       "</table>\n",
       "</div>"
      ],
      "text/plain": [
       "           DateCrawled  Price VehicleType  RegistrationYear Gearbox  Power  \\\n",
       "0  2016-03-24 11:52:17    480         NaN              1993  manual      0   \n",
       "1  2016-03-24 10:58:45  18300       coupe              2011  manual    190   \n",
       "2  2016-03-14 12:52:21   9800         suv              2004    auto    163   \n",
       "3  2016-03-17 16:54:04   1500       small              2001  manual     75   \n",
       "4  2016-03-31 17:25:20   3600       small              2008  manual     69   \n",
       "\n",
       "   Model  Kilometer  RegistrationMonth  FuelType       Brand NotRepaired  \\\n",
       "0   golf     150000                  0    petrol  volkswagen         NaN   \n",
       "1    NaN     125000                  5  gasoline        audi         yes   \n",
       "2  grand     125000                  8  gasoline        jeep         NaN   \n",
       "3   golf     150000                  6    petrol  volkswagen          no   \n",
       "4  fabia      90000                  7  gasoline       skoda          no   \n",
       "\n",
       "           DateCreated  NumberOfPictures  PostalCode             LastSeen  \n",
       "0  2016-03-24 00:00:00                 0       70435  2016-04-07 03:16:57  \n",
       "1  2016-03-24 00:00:00                 0       66954  2016-04-07 01:46:50  \n",
       "2  2016-03-14 00:00:00                 0       90480  2016-04-05 12:47:46  \n",
       "3  2016-03-17 00:00:00                 0       91074  2016-03-17 17:40:17  \n",
       "4  2016-03-31 00:00:00                 0       60437  2016-04-06 10:17:21  "
      ]
     },
     "metadata": {},
     "output_type": "display_data"
    },
    {
     "data": {
      "text/html": [
       "<div>\n",
       "<style scoped>\n",
       "    .dataframe tbody tr th:only-of-type {\n",
       "        vertical-align: middle;\n",
       "    }\n",
       "\n",
       "    .dataframe tbody tr th {\n",
       "        vertical-align: top;\n",
       "    }\n",
       "\n",
       "    .dataframe thead th {\n",
       "        text-align: right;\n",
       "    }\n",
       "</style>\n",
       "<table border=\"1\" class=\"dataframe\">\n",
       "  <thead>\n",
       "    <tr style=\"text-align: right;\">\n",
       "      <th></th>\n",
       "      <th>Price</th>\n",
       "      <th>RegistrationYear</th>\n",
       "      <th>Power</th>\n",
       "      <th>Kilometer</th>\n",
       "      <th>RegistrationMonth</th>\n",
       "      <th>NumberOfPictures</th>\n",
       "      <th>PostalCode</th>\n",
       "    </tr>\n",
       "  </thead>\n",
       "  <tbody>\n",
       "    <tr>\n",
       "      <th>count</th>\n",
       "      <td>354369</td>\n",
       "      <td>354369</td>\n",
       "      <td>354369</td>\n",
       "      <td>354369</td>\n",
       "      <td>354369</td>\n",
       "      <td>354369</td>\n",
       "      <td>354369</td>\n",
       "    </tr>\n",
       "    <tr>\n",
       "      <th>mean</th>\n",
       "      <td>4416</td>\n",
       "      <td>2004</td>\n",
       "      <td>110</td>\n",
       "      <td>128211</td>\n",
       "      <td>5</td>\n",
       "      <td>0</td>\n",
       "      <td>50508</td>\n",
       "    </tr>\n",
       "    <tr>\n",
       "      <th>std</th>\n",
       "      <td>4514</td>\n",
       "      <td>90</td>\n",
       "      <td>189</td>\n",
       "      <td>37905</td>\n",
       "      <td>3</td>\n",
       "      <td>0</td>\n",
       "      <td>25783</td>\n",
       "    </tr>\n",
       "    <tr>\n",
       "      <th>min</th>\n",
       "      <td>0</td>\n",
       "      <td>1000</td>\n",
       "      <td>0</td>\n",
       "      <td>5000</td>\n",
       "      <td>0</td>\n",
       "      <td>0</td>\n",
       "      <td>1067</td>\n",
       "    </tr>\n",
       "    <tr>\n",
       "      <th>25%</th>\n",
       "      <td>1050</td>\n",
       "      <td>1999</td>\n",
       "      <td>69</td>\n",
       "      <td>125000</td>\n",
       "      <td>3</td>\n",
       "      <td>0</td>\n",
       "      <td>30165</td>\n",
       "    </tr>\n",
       "    <tr>\n",
       "      <th>50%</th>\n",
       "      <td>2700</td>\n",
       "      <td>2003</td>\n",
       "      <td>105</td>\n",
       "      <td>150000</td>\n",
       "      <td>6</td>\n",
       "      <td>0</td>\n",
       "      <td>49413</td>\n",
       "    </tr>\n",
       "    <tr>\n",
       "      <th>75%</th>\n",
       "      <td>6400</td>\n",
       "      <td>2008</td>\n",
       "      <td>143</td>\n",
       "      <td>150000</td>\n",
       "      <td>9</td>\n",
       "      <td>0</td>\n",
       "      <td>71083</td>\n",
       "    </tr>\n",
       "    <tr>\n",
       "      <th>max</th>\n",
       "      <td>20000</td>\n",
       "      <td>9999</td>\n",
       "      <td>20000</td>\n",
       "      <td>150000</td>\n",
       "      <td>12</td>\n",
       "      <td>0</td>\n",
       "      <td>99998</td>\n",
       "    </tr>\n",
       "  </tbody>\n",
       "</table>\n",
       "</div>"
      ],
      "text/plain": [
       "        Price  RegistrationYear   Power  Kilometer  RegistrationMonth  \\\n",
       "count  354369            354369  354369     354369             354369   \n",
       "mean     4416              2004     110     128211                  5   \n",
       "std      4514                90     189      37905                  3   \n",
       "min         0              1000       0       5000                  0   \n",
       "25%      1050              1999      69     125000                  3   \n",
       "50%      2700              2003     105     150000                  6   \n",
       "75%      6400              2008     143     150000                  9   \n",
       "max     20000              9999   20000     150000                 12   \n",
       "\n",
       "       NumberOfPictures  PostalCode  \n",
       "count            354369      354369  \n",
       "mean                  0       50508  \n",
       "std                   0       25783  \n",
       "min                   0        1067  \n",
       "25%                   0       30165  \n",
       "50%                   0       49413  \n",
       "75%                   0       71083  \n",
       "max                   0       99998  "
      ]
     },
     "metadata": {},
     "output_type": "display_data"
    },
    {
     "data": {
      "text/plain": [
       "(None, None, None)"
      ]
     },
     "execution_count": 4,
     "metadata": {},
     "output_type": "execute_result"
    }
   ],
   "source": [
    "info(data)"
   ]
  },
  {
   "cell_type": "markdown",
   "metadata": {},
   "source": [
    "## Preprocessing data for work"
   ]
  },
  {
   "cell_type": "markdown",
   "metadata": {},
   "source": [
    "**Let's leave only those signs that affect the value of the car:**\n",
    "- Price - price (euro)\n",
    "- VehicleType - type of car body\n",
    "- RegistrationYear - year of vehicle registration\n",
    "- Gearbox - type of gearbox\n",
    "- Power - power (l. From.)\n",
    "- Model - car model\n",
    "- Kilometer - mileage (km)\n",
    "- FuelType - fuel type\n",
    "- Brand - car brand\n",
    "- NotRepaired - was the car being repaired or not\n",
    "\n",
    "**Remove unnecessary ones:**\n",
    "- DateCrawled - date of downloading the questionnaire from the database\n",
    "- RegistrationMonth - month of vehicle registration\n",
    "- NumberOfPictures - number of car photos\n",
    "- LastSeen - date of last user activity\n",
    "- DateCreated - date of creation of the profile\n",
    "- PostalCode - postal code of the owner of the questionnaire * (could have been left if there was a link between the index and geography, but within the framework of this project we will not do this) *"
   ]
  },
  {
   "cell_type": "markdown",
   "metadata": {},
   "source": [
    "**Checking duplicates**"
   ]
  },
  {
   "cell_type": "code",
   "execution_count": 5,
   "metadata": {},
   "outputs": [
    {
     "name": "stdout",
     "output_type": "stream",
     "text": [
      "Duplicates: 4\n"
     ]
    }
   ],
   "source": [
    "print('Duplicates:', data.duplicated().sum())"
   ]
  },
  {
   "cell_type": "code",
   "execution_count": 6,
   "metadata": {},
   "outputs": [],
   "source": [
    "data = data.drop_duplicates().reset_index(drop=True)"
   ]
  },
  {
   "cell_type": "markdown",
   "metadata": {},
   "source": [
    "**Deleting unnecessary features**"
   ]
  },
  {
   "cell_type": "code",
   "execution_count": 7,
   "metadata": {},
   "outputs": [],
   "source": [
    "data = data[['Price', 'VehicleType', 'RegistrationYear', 'Gearbox', 'Power', 'Model', \n",
    "             'Kilometer', 'FuelType', 'Brand', 'NotRepaired']]"
   ]
  },
  {
   "cell_type": "markdown",
   "metadata": {},
   "source": [
    "### Handling anomalous values"
   ]
  },
  {
   "cell_type": "code",
   "execution_count": 8,
   "metadata": {},
   "outputs": [
    {
     "data": {
      "text/html": [
       "<div>\n",
       "<style scoped>\n",
       "    .dataframe tbody tr th:only-of-type {\n",
       "        vertical-align: middle;\n",
       "    }\n",
       "\n",
       "    .dataframe tbody tr th {\n",
       "        vertical-align: top;\n",
       "    }\n",
       "\n",
       "    .dataframe thead th {\n",
       "        text-align: right;\n",
       "    }\n",
       "</style>\n",
       "<table border=\"1\" class=\"dataframe\">\n",
       "  <thead>\n",
       "    <tr style=\"text-align: right;\">\n",
       "      <th></th>\n",
       "      <th>Price</th>\n",
       "      <th>RegistrationYear</th>\n",
       "      <th>Power</th>\n",
       "      <th>Kilometer</th>\n",
       "    </tr>\n",
       "  </thead>\n",
       "  <tbody>\n",
       "    <tr>\n",
       "      <th>count</th>\n",
       "      <td>354365</td>\n",
       "      <td>354365</td>\n",
       "      <td>354365</td>\n",
       "      <td>354365</td>\n",
       "    </tr>\n",
       "    <tr>\n",
       "      <th>mean</th>\n",
       "      <td>4416</td>\n",
       "      <td>2004</td>\n",
       "      <td>110</td>\n",
       "      <td>128211</td>\n",
       "    </tr>\n",
       "    <tr>\n",
       "      <th>std</th>\n",
       "      <td>4514</td>\n",
       "      <td>90</td>\n",
       "      <td>189</td>\n",
       "      <td>37905</td>\n",
       "    </tr>\n",
       "    <tr>\n",
       "      <th>min</th>\n",
       "      <td>0</td>\n",
       "      <td>1000</td>\n",
       "      <td>0</td>\n",
       "      <td>5000</td>\n",
       "    </tr>\n",
       "    <tr>\n",
       "      <th>25%</th>\n",
       "      <td>1050</td>\n",
       "      <td>1999</td>\n",
       "      <td>69</td>\n",
       "      <td>125000</td>\n",
       "    </tr>\n",
       "    <tr>\n",
       "      <th>50%</th>\n",
       "      <td>2700</td>\n",
       "      <td>2003</td>\n",
       "      <td>105</td>\n",
       "      <td>150000</td>\n",
       "    </tr>\n",
       "    <tr>\n",
       "      <th>75%</th>\n",
       "      <td>6400</td>\n",
       "      <td>2008</td>\n",
       "      <td>143</td>\n",
       "      <td>150000</td>\n",
       "    </tr>\n",
       "    <tr>\n",
       "      <th>max</th>\n",
       "      <td>20000</td>\n",
       "      <td>9999</td>\n",
       "      <td>20000</td>\n",
       "      <td>150000</td>\n",
       "    </tr>\n",
       "  </tbody>\n",
       "</table>\n",
       "</div>"
      ],
      "text/plain": [
       "        Price  RegistrationYear   Power  Kilometer\n",
       "count  354365            354365  354365     354365\n",
       "mean     4416              2004     110     128211\n",
       "std      4514                90     189      37905\n",
       "min         0              1000       0       5000\n",
       "25%      1050              1999      69     125000\n",
       "50%      2700              2003     105     150000\n",
       "75%      6400              2008     143     150000\n",
       "max     20000              9999   20000     150000"
      ]
     },
     "execution_count": 8,
     "metadata": {},
     "output_type": "execute_result"
    }
   ],
   "source": [
    "data.describe().astype(int)"
   ]
  },
  {
   "cell_type": "markdown",
   "metadata": {},
   "source": [
    "- Let's remove the anomalous values from the target feature.\n",
    "- In the rest of the features, we will leave them so that our model is ready to work with outliers"
   ]
  },
  {
   "cell_type": "code",
   "execution_count": 9,
   "metadata": {},
   "outputs": [],
   "source": [
    "data = data.loc[data['Price'] > 99].reset_index(drop=True)"
   ]
  },
  {
   "cell_type": "code",
   "execution_count": 10,
   "metadata": {},
   "outputs": [
    {
     "data": {
      "text/html": [
       "<div>\n",
       "<style scoped>\n",
       "    .dataframe tbody tr th:only-of-type {\n",
       "        vertical-align: middle;\n",
       "    }\n",
       "\n",
       "    .dataframe tbody tr th {\n",
       "        vertical-align: top;\n",
       "    }\n",
       "\n",
       "    .dataframe thead th {\n",
       "        text-align: right;\n",
       "    }\n",
       "</style>\n",
       "<table border=\"1\" class=\"dataframe\">\n",
       "  <thead>\n",
       "    <tr style=\"text-align: right;\">\n",
       "      <th></th>\n",
       "      <th>Price</th>\n",
       "      <th>VehicleType</th>\n",
       "      <th>RegistrationYear</th>\n",
       "      <th>Gearbox</th>\n",
       "      <th>Power</th>\n",
       "      <th>Model</th>\n",
       "      <th>Kilometer</th>\n",
       "      <th>FuelType</th>\n",
       "      <th>Brand</th>\n",
       "      <th>NotRepaired</th>\n",
       "    </tr>\n",
       "  </thead>\n",
       "  <tbody>\n",
       "    <tr>\n",
       "      <th>0</th>\n",
       "      <td>480</td>\n",
       "      <td>NaN</td>\n",
       "      <td>1993</td>\n",
       "      <td>manual</td>\n",
       "      <td>0</td>\n",
       "      <td>golf</td>\n",
       "      <td>150000</td>\n",
       "      <td>petrol</td>\n",
       "      <td>volkswagen</td>\n",
       "      <td>NaN</td>\n",
       "    </tr>\n",
       "    <tr>\n",
       "      <th>1</th>\n",
       "      <td>18300</td>\n",
       "      <td>coupe</td>\n",
       "      <td>2011</td>\n",
       "      <td>manual</td>\n",
       "      <td>190</td>\n",
       "      <td>NaN</td>\n",
       "      <td>125000</td>\n",
       "      <td>gasoline</td>\n",
       "      <td>audi</td>\n",
       "      <td>yes</td>\n",
       "    </tr>\n",
       "    <tr>\n",
       "      <th>2</th>\n",
       "      <td>9800</td>\n",
       "      <td>suv</td>\n",
       "      <td>2004</td>\n",
       "      <td>auto</td>\n",
       "      <td>163</td>\n",
       "      <td>grand</td>\n",
       "      <td>125000</td>\n",
       "      <td>gasoline</td>\n",
       "      <td>jeep</td>\n",
       "      <td>NaN</td>\n",
       "    </tr>\n",
       "    <tr>\n",
       "      <th>3</th>\n",
       "      <td>1500</td>\n",
       "      <td>small</td>\n",
       "      <td>2001</td>\n",
       "      <td>manual</td>\n",
       "      <td>75</td>\n",
       "      <td>golf</td>\n",
       "      <td>150000</td>\n",
       "      <td>petrol</td>\n",
       "      <td>volkswagen</td>\n",
       "      <td>no</td>\n",
       "    </tr>\n",
       "    <tr>\n",
       "      <th>4</th>\n",
       "      <td>3600</td>\n",
       "      <td>small</td>\n",
       "      <td>2008</td>\n",
       "      <td>manual</td>\n",
       "      <td>69</td>\n",
       "      <td>fabia</td>\n",
       "      <td>90000</td>\n",
       "      <td>gasoline</td>\n",
       "      <td>skoda</td>\n",
       "      <td>no</td>\n",
       "    </tr>\n",
       "    <tr>\n",
       "      <th>...</th>\n",
       "      <td>...</td>\n",
       "      <td>...</td>\n",
       "      <td>...</td>\n",
       "      <td>...</td>\n",
       "      <td>...</td>\n",
       "      <td>...</td>\n",
       "      <td>...</td>\n",
       "      <td>...</td>\n",
       "      <td>...</td>\n",
       "      <td>...</td>\n",
       "    </tr>\n",
       "    <tr>\n",
       "      <th>341046</th>\n",
       "      <td>1150</td>\n",
       "      <td>bus</td>\n",
       "      <td>2000</td>\n",
       "      <td>manual</td>\n",
       "      <td>0</td>\n",
       "      <td>zafira</td>\n",
       "      <td>150000</td>\n",
       "      <td>petrol</td>\n",
       "      <td>opel</td>\n",
       "      <td>no</td>\n",
       "    </tr>\n",
       "    <tr>\n",
       "      <th>341047</th>\n",
       "      <td>2200</td>\n",
       "      <td>NaN</td>\n",
       "      <td>2005</td>\n",
       "      <td>NaN</td>\n",
       "      <td>0</td>\n",
       "      <td>NaN</td>\n",
       "      <td>20000</td>\n",
       "      <td>NaN</td>\n",
       "      <td>sonstige_autos</td>\n",
       "      <td>NaN</td>\n",
       "    </tr>\n",
       "    <tr>\n",
       "      <th>341048</th>\n",
       "      <td>1199</td>\n",
       "      <td>convertible</td>\n",
       "      <td>2000</td>\n",
       "      <td>auto</td>\n",
       "      <td>101</td>\n",
       "      <td>fortwo</td>\n",
       "      <td>125000</td>\n",
       "      <td>petrol</td>\n",
       "      <td>smart</td>\n",
       "      <td>no</td>\n",
       "    </tr>\n",
       "    <tr>\n",
       "      <th>341049</th>\n",
       "      <td>9200</td>\n",
       "      <td>bus</td>\n",
       "      <td>1996</td>\n",
       "      <td>manual</td>\n",
       "      <td>102</td>\n",
       "      <td>transporter</td>\n",
       "      <td>150000</td>\n",
       "      <td>gasoline</td>\n",
       "      <td>volkswagen</td>\n",
       "      <td>no</td>\n",
       "    </tr>\n",
       "    <tr>\n",
       "      <th>341050</th>\n",
       "      <td>3400</td>\n",
       "      <td>wagon</td>\n",
       "      <td>2002</td>\n",
       "      <td>manual</td>\n",
       "      <td>100</td>\n",
       "      <td>golf</td>\n",
       "      <td>150000</td>\n",
       "      <td>gasoline</td>\n",
       "      <td>volkswagen</td>\n",
       "      <td>NaN</td>\n",
       "    </tr>\n",
       "  </tbody>\n",
       "</table>\n",
       "<p>341051 rows × 10 columns</p>\n",
       "</div>"
      ],
      "text/plain": [
       "        Price  VehicleType  RegistrationYear Gearbox  Power        Model  \\\n",
       "0         480          NaN              1993  manual      0         golf   \n",
       "1       18300        coupe              2011  manual    190          NaN   \n",
       "2        9800          suv              2004    auto    163        grand   \n",
       "3        1500        small              2001  manual     75         golf   \n",
       "4        3600        small              2008  manual     69        fabia   \n",
       "...       ...          ...               ...     ...    ...          ...   \n",
       "341046   1150          bus              2000  manual      0       zafira   \n",
       "341047   2200          NaN              2005     NaN      0          NaN   \n",
       "341048   1199  convertible              2000    auto    101       fortwo   \n",
       "341049   9200          bus              1996  manual    102  transporter   \n",
       "341050   3400        wagon              2002  manual    100         golf   \n",
       "\n",
       "        Kilometer  FuelType           Brand NotRepaired  \n",
       "0          150000    petrol      volkswagen         NaN  \n",
       "1          125000  gasoline            audi         yes  \n",
       "2          125000  gasoline            jeep         NaN  \n",
       "3          150000    petrol      volkswagen          no  \n",
       "4           90000  gasoline           skoda          no  \n",
       "...           ...       ...             ...         ...  \n",
       "341046     150000    petrol            opel          no  \n",
       "341047      20000       NaN  sonstige_autos         NaN  \n",
       "341048     125000    petrol           smart          no  \n",
       "341049     150000  gasoline      volkswagen          no  \n",
       "341050     150000  gasoline      volkswagen         NaN  \n",
       "\n",
       "[341051 rows x 10 columns]"
      ]
     },
     "execution_count": 10,
     "metadata": {},
     "output_type": "execute_result"
    }
   ],
   "source": [
    "data"
   ]
  },
  {
   "cell_type": "markdown",
   "metadata": {},
   "source": [
    "### Processing NaN's"
   ]
  },
  {
   "cell_type": "code",
   "execution_count": 11,
   "metadata": {},
   "outputs": [
    {
     "name": "stdout",
     "output_type": "stream",
     "text": [
      "Percentage of NaN in features:\n"
     ]
    },
    {
     "data": {
      "text/plain": [
       "NotRepaired         18.870198\n",
       "VehicleType          9.562206\n",
       "FuelType             8.312247\n",
       "Model                4.994268\n",
       "Gearbox              4.783449\n",
       "Brand                0.000000\n",
       "Kilometer            0.000000\n",
       "Power                0.000000\n",
       "RegistrationYear     0.000000\n",
       "Price                0.000000\n",
       "dtype: float64"
      ]
     },
     "execution_count": 11,
     "metadata": {},
     "output_type": "execute_result"
    }
   ],
   "source": [
    "print('Percentage of NaN in features:')\n",
    "data.isna().sum().sort_values(ascending = False)/len(data)*100"
   ]
  },
  {
   "cell_type": "markdown",
   "metadata": {},
   "source": [
    "**Options for working with NaN:**\n",
    "- **Remove NaN** - there will be enough data for further analysis\n",
    "- **Fill in gaps using ML model predictions or estimates** - VehicleType predictions are likely to be accurate, NotRepaided predictions may be inaccurate and affect the quality of our model"
   ]
  },
  {
   "cell_type": "code",
   "execution_count": 12,
   "metadata": {},
   "outputs": [
    {
     "data": {
      "text/plain": [
       "<AxesSubplot:title={'center':'Distribution of prices in the original data and after the removal of NaN'}>"
      ]
     },
     "execution_count": 12,
     "metadata": {},
     "output_type": "execute_result"
    },
    {
     "data": {
      "image/png": "[encoded data removed]",
      "text/plain": [
       "<Figure size 864x288 with 1 Axes>"
      ]
     },
     "metadata": {
      "needs_background": "light"
     },
     "output_type": "display_data"
    }
   ],
   "source": [
    "plt.title('Distribution of prices in the original data and after the removal of NaN')\n",
    "data.dropna()['Price'].hist(bins=60, figsize=(10, 5))\n",
    "data['Price'].hist(bins=60, alpha=0.5, figsize=(12, 4))"
   ]
  },
  {
   "cell_type": "markdown",
   "metadata": {},
   "source": [
    "**Conclusion:** After removing all NaN, our target does not change, that is, removing NaN will not affect our forecast. It would be possible to fill in the gaps using the ML, but there would be less confidence in such data."
   ]
  },
  {
   "cell_type": "code",
   "execution_count": 13,
   "metadata": {},
   "outputs": [],
   "source": [
    "data = data.dropna().reset_index(drop=True)"
   ]
  },
  {
   "cell_type": "markdown",
   "metadata": {},
   "source": [
    "# Models training"
   ]
  },
  {
   "cell_type": "markdown",
   "metadata": {},
   "source": [
    "Unchanged features:"
   ]
  },
  {
   "cell_type": "code",
   "execution_count": 14,
   "metadata": {},
   "outputs": [],
   "source": [
    "features = data.drop('Price', axis=1)\n",
    "target = data['Price']\n",
    "\n",
    "features_train, features_test, target_train, target_test = train_test_split(\n",
    "    features, target, test_size=0.25, random_state=42)"
   ]
  },
  {
   "cell_type": "markdown",
   "metadata": {},
   "source": [
    "### Data normalization"
   ]
  },
  {
   "cell_type": "markdown",
   "metadata": {},
   "source": [
    "**Because. we will work with linear regression, we will encode categorical features using the One Hot Encoding technique**"
   ]
  },
  {
   "cell_type": "code",
   "execution_count": 15,
   "metadata": {},
   "outputs": [],
   "source": [
    "data_ohe = pd.get_dummies(data, drop_first=True)"
   ]
  },
  {
   "cell_type": "code",
   "execution_count": 16,
   "metadata": {},
   "outputs": [],
   "source": [
    "data_train_ohe, data_test_ohe = train_test_split(data_ohe, test_size=0.25, random_state=42)"
   ]
  },
  {
   "cell_type": "code",
   "execution_count": 17,
   "metadata": {},
   "outputs": [
    {
     "name": "stdout",
     "output_type": "stream",
     "text": [
      "(181343, 305)\n",
      "(60448, 305)\n"
     ]
    }
   ],
   "source": [
    "print(data_train_ohe.shape)\n",
    "print(data_test_ohe.shape)"
   ]
  },
  {
   "cell_type": "markdown",
   "metadata": {},
   "source": [
    "**Scaling features**"
   ]
  },
  {
   "cell_type": "code",
   "execution_count": 18,
   "metadata": {},
   "outputs": [
    {
     "data": {
      "text/plain": [
       "StandardScaler()"
      ]
     },
     "execution_count": 18,
     "metadata": {},
     "output_type": "execute_result"
    }
   ],
   "source": [
    "numeric = ['RegistrationYear', 'Power', 'Kilometer']\n",
    "\n",
    "scaler = StandardScaler()\n",
    "scaler.fit(data_train_ohe[numeric])"
   ]
  },
  {
   "cell_type": "code",
   "execution_count": 19,
   "metadata": {},
   "outputs": [],
   "source": [
    "data_train_ohe[numeric] = scaler.transform(data_train_ohe[numeric])\n",
    "data_test_ohe[numeric] = scaler.transform(data_test_ohe[numeric])"
   ]
  },
  {
   "cell_type": "code",
   "execution_count": 20,
   "metadata": {},
   "outputs": [
    {
     "name": "stdout",
     "output_type": "stream",
     "text": [
      "(181343, 305)\n",
      "(60448, 305)\n"
     ]
    }
   ],
   "source": [
    "print(data_train_ohe.shape)\n",
    "print(data_test_ohe.shape)"
   ]
  },
  {
   "cell_type": "markdown",
   "metadata": {},
   "source": [
    "Encoded and normalized features:"
   ]
  },
  {
   "cell_type": "code",
   "execution_count": 21,
   "metadata": {},
   "outputs": [],
   "source": [
    "features_train_ohe = data_train_ohe.drop('Price', axis=1)\n",
    "features_test_ohe = data_test_ohe.drop('Price', axis=1)\n",
    "target_train_ohe = data_train_ohe['Price']\n",
    "target_test_ohe = data_test_ohe['Price']"
   ]
  },
  {
   "cell_type": "code",
   "execution_count": 22,
   "metadata": {},
   "outputs": [
    {
     "name": "stdout",
     "output_type": "stream",
     "text": [
      "(181343, 304)\n",
      "(60448, 304)\n",
      "(181343,)\n",
      "(60448,)\n"
     ]
    }
   ],
   "source": [
    "print(features_train_ohe.shape)\n",
    "print(features_test_ohe.shape)\n",
    "print(target_train_ohe.shape)\n",
    "print(target_test_ohe.shape)"
   ]
  },
  {
   "cell_type": "code",
   "execution_count": 23,
   "metadata": {},
   "outputs": [],
   "source": [
    "cat_features = ['VehicleType', 'Gearbox', 'Model', 'FuelType', 'Brand', 'NotRepaired']\n",
    "\n",
    "ohe_cat_features = data_train_ohe.drop(\n",
    "    ['Price', 'RegistrationYear', 'Power', 'Kilometer'], axis=1).columns"
   ]
  },
  {
   "cell_type": "markdown",
   "metadata": {},
   "source": [
    "## CatBoostRegressor"
   ]
  },
  {
   "cell_type": "code",
   "execution_count": 24,
   "metadata": {},
   "outputs": [
    {
     "name": "stdout",
     "output_type": "stream",
     "text": [
      "Learning rate set to 0.245924\n",
      "0:\tlearn: 3952.2862673\ttotal: 294ms\tremaining: 1m 27s\n",
      "50:\tlearn: 1708.9187038\ttotal: 7.69s\tremaining: 37.5s\n",
      "100:\tlearn: 1632.6030002\ttotal: 14.7s\tremaining: 29s\n",
      "150:\tlearn: 1595.2124249\ttotal: 21.9s\tremaining: 21.6s\n",
      "200:\tlearn: 1568.6841123\ttotal: 28.5s\tremaining: 14s\n",
      "250:\tlearn: 1549.2456889\ttotal: 34.7s\tremaining: 6.77s\n",
      "299:\tlearn: 1533.4266007\ttotal: 41s\tremaining: 0us\n",
      "Wall time: 41.8 s\n"
     ]
    },
    {
     "data": {
      "text/plain": [
       "<catboost.core.CatBoostRegressor at 0x248c9925dc0>"
      ]
     },
     "execution_count": 24,
     "metadata": {},
     "output_type": "execute_result"
    }
   ],
   "source": [
    "%%time\n",
    "\n",
    "CBR = CatBoostRegressor(loss_function=\"RMSE\", iterations=300, verbose=100)\n",
    "\n",
    "CBR.fit(features_train, target_train, cat_features=cat_features, verbose=50)"
   ]
  },
  {
   "cell_type": "code",
   "execution_count": 25,
   "metadata": {},
   "outputs": [],
   "source": [
    "def cvs(model_name):\n",
    "    print('Cross-validation RMSE: {:.0f}'.format(\n",
    "        np.sqrt(abs(cross_val_score(\n",
    "            model_name, features_train_ohe, target_train_ohe, cv=5, \n",
    "            scoring='neg_mean_squared_error'))).mean()))"
   ]
  },
  {
   "cell_type": "code",
   "execution_count": 26,
   "metadata": {},
   "outputs": [
    {
     "name": "stdout",
     "output_type": "stream",
     "text": [
      "Learning rate set to 0.236348\n",
      "0:\tlearn: 3986.6769026\ttotal: 29.4ms\tremaining: 8.79s\n",
      "100:\tlearn: 1659.7878739\ttotal: 2.28s\tremaining: 4.5s\n",
      "200:\tlearn: 1571.8352982\ttotal: 4.52s\tremaining: 2.23s\n",
      "299:\tlearn: 1524.5865562\ttotal: 6.72s\tremaining: 0us\n",
      "Learning rate set to 0.236348\n",
      "0:\tlearn: 3969.3913040\ttotal: 25.1ms\tremaining: 7.5s\n",
      "100:\tlearn: 1656.2716538\ttotal: 2.53s\tremaining: 4.99s\n",
      "200:\tlearn: 1566.2097504\ttotal: 4.81s\tremaining: 2.37s\n",
      "299:\tlearn: 1521.8737143\ttotal: 7.17s\tremaining: 0us\n",
      "Learning rate set to 0.236348\n",
      "0:\tlearn: 3971.4863978\ttotal: 36.1ms\tremaining: 10.8s\n",
      "100:\tlearn: 1655.1393842\ttotal: 2.42s\tremaining: 4.77s\n",
      "200:\tlearn: 1565.0795999\ttotal: 4.81s\tremaining: 2.37s\n",
      "299:\tlearn: 1519.3159873\ttotal: 7.15s\tremaining: 0us\n",
      "Learning rate set to 0.236348\n",
      "0:\tlearn: 3973.1716663\ttotal: 25.6ms\tremaining: 7.65s\n",
      "100:\tlearn: 1659.6483739\ttotal: 2.19s\tremaining: 4.33s\n",
      "200:\tlearn: 1576.5139717\ttotal: 4.55s\tremaining: 2.24s\n",
      "299:\tlearn: 1529.1552016\ttotal: 6.74s\tremaining: 0us\n",
      "Learning rate set to 0.236348\n",
      "0:\tlearn: 3968.8625840\ttotal: 21.3ms\tremaining: 6.37s\n",
      "100:\tlearn: 1656.3434666\ttotal: 2.48s\tremaining: 4.88s\n",
      "200:\tlearn: 1572.6754112\ttotal: 4.75s\tremaining: 2.34s\n",
      "299:\tlearn: 1524.0675323\ttotal: 7.08s\tremaining: 0us\n",
      "Cross-validation RMSE: 1584\n"
     ]
    }
   ],
   "source": [
    "cvs(CBR)"
   ]
  },
  {
   "cell_type": "code",
   "execution_count": 27,
   "metadata": {},
   "outputs": [
    {
     "name": "stdout",
     "output_type": "stream",
     "text": [
      "Wall time: 225 ms\n"
     ]
    }
   ],
   "source": [
    "%%time\n",
    "CBR_predictions_test = CBR.predict(features_test)"
   ]
  },
  {
   "cell_type": "code",
   "execution_count": 28,
   "metadata": {},
   "outputs": [
    {
     "name": "stdout",
     "output_type": "stream",
     "text": [
      "RMSE CatBoostRegressor: 1587\n"
     ]
    }
   ],
   "source": [
    "CBR_RMSE = sqrt(mean_squared_error(target_test, CBR_predictions_test))\n",
    "print('RMSE CatBoostRegressor: {:.0f}'.format(CBR_RMSE))"
   ]
  },
  {
   "cell_type": "markdown",
   "metadata": {},
   "source": [
    "### CatBoostRegressor - different params"
   ]
  },
  {
   "cell_type": "markdown",
   "metadata": {},
   "source": [
    "#### Tree depth"
   ]
  },
  {
   "cell_type": "code",
   "execution_count": 29,
   "metadata": {},
   "outputs": [
    {
     "name": "stdout",
     "output_type": "stream",
     "text": [
      "Learning rate set to 0.245924\n",
      "0:\tlearn: 3972.2459230\ttotal: 110ms\tremaining: 32.8s\n",
      "100:\tlearn: 1671.9561203\ttotal: 10.7s\tremaining: 21.1s\n",
      "200:\tlearn: 1609.0787846\ttotal: 21.3s\tremaining: 10.5s\n",
      "299:\tlearn: 1577.0244314\ttotal: 32.3s\tremaining: 0us\n",
      "Wall time: 33 s\n"
     ]
    },
    {
     "data": {
      "text/plain": [
       "<catboost.core.CatBoostRegressor at 0x248c4053af0>"
      ]
     },
     "execution_count": 29,
     "metadata": {},
     "output_type": "execute_result"
    }
   ],
   "source": [
    "%%time\n",
    "\n",
    "CBR = CatBoostRegressor(loss_function=\"RMSE\", iterations=300, depth=5, verbose=100)\n",
    "\n",
    "CBR.fit(features_train, target_train, cat_features=cat_features, verbose=100)"
   ]
  },
  {
   "cell_type": "code",
   "execution_count": 30,
   "metadata": {},
   "outputs": [
    {
     "name": "stdout",
     "output_type": "stream",
     "text": [
      "Learning rate set to 0.236348\n",
      "0:\tlearn: 4010.1976607\ttotal: 24.2ms\tremaining: 7.24s\n",
      "100:\tlearn: 1700.9284115\ttotal: 1.95s\tremaining: 3.84s\n",
      "200:\tlearn: 1613.1875965\ttotal: 4.18s\tremaining: 2.06s\n",
      "299:\tlearn: 1565.4602642\ttotal: 6.24s\tremaining: 0us\n",
      "Learning rate set to 0.236348\n",
      "0:\tlearn: 3991.9192215\ttotal: 19.7ms\tremaining: 5.91s\n",
      "100:\tlearn: 1694.3687219\ttotal: 2.12s\tremaining: 4.18s\n",
      "200:\tlearn: 1608.2523734\ttotal: 4.19s\tremaining: 2.06s\n",
      "299:\tlearn: 1564.0818492\ttotal: 6.02s\tremaining: 0us\n",
      "Learning rate set to 0.236348\n",
      "0:\tlearn: 3994.1248743\ttotal: 24.9ms\tremaining: 7.43s\n",
      "100:\tlearn: 1698.6858758\ttotal: 2.38s\tremaining: 4.7s\n",
      "200:\tlearn: 1608.6420210\ttotal: 4.41s\tremaining: 2.17s\n",
      "299:\tlearn: 1559.6826179\ttotal: 6.27s\tremaining: 0us\n",
      "Learning rate set to 0.236348\n",
      "0:\tlearn: 3995.8714530\ttotal: 27.2ms\tremaining: 8.13s\n",
      "100:\tlearn: 1700.0807145\ttotal: 2.19s\tremaining: 4.31s\n",
      "200:\tlearn: 1617.9431141\ttotal: 4.07s\tremaining: 2s\n",
      "299:\tlearn: 1572.3623920\ttotal: 6.2s\tremaining: 0us\n",
      "Learning rate set to 0.236348\n",
      "0:\tlearn: 3991.5144019\ttotal: 26.3ms\tremaining: 7.86s\n",
      "100:\tlearn: 1696.4307877\ttotal: 1.99s\tremaining: 3.91s\n",
      "200:\tlearn: 1613.0018340\ttotal: 3.9s\tremaining: 1.92s\n",
      "299:\tlearn: 1564.9882645\ttotal: 6.2s\tremaining: 0us\n",
      "Cross-validation RMSE: 1609\n"
     ]
    }
   ],
   "source": [
    "cvs(CBR)"
   ]
  },
  {
   "cell_type": "code",
   "execution_count": 31,
   "metadata": {},
   "outputs": [
    {
     "name": "stdout",
     "output_type": "stream",
     "text": [
      "Wall time: 223 ms\n"
     ]
    }
   ],
   "source": [
    "%%time\n",
    "CBR_predictions_test = CBR.predict(features_test)"
   ]
  },
  {
   "cell_type": "code",
   "execution_count": 32,
   "metadata": {},
   "outputs": [
    {
     "name": "stdout",
     "output_type": "stream",
     "text": [
      "RMSE CatBoostRegressor: 1609\n"
     ]
    }
   ],
   "source": [
    "CBR_RMSE_2 = sqrt(mean_squared_error(target_test, CBR_predictions_test))\n",
    "print('RMSE CatBoostRegressor: {:.0f}'.format(CBR_RMSE_2))"
   ]
  },
  {
   "cell_type": "code",
   "execution_count": 33,
   "metadata": {},
   "outputs": [
    {
     "name": "stdout",
     "output_type": "stream",
     "text": [
      "Learning rate set to 0.245924\n",
      "0:\tlearn: 3884.8403912\ttotal: 209ms\tremaining: 1m 2s\n",
      "50:\tlearn: 1599.1910799\ttotal: 11.4s\tremaining: 55.7s\n",
      "100:\tlearn: 1517.6622056\ttotal: 22.9s\tremaining: 45.2s\n",
      "150:\tlearn: 1474.8449991\ttotal: 33.8s\tremaining: 33.4s\n",
      "200:\tlearn: 1440.8187195\ttotal: 45.1s\tremaining: 22.2s\n",
      "250:\tlearn: 1413.8627289\ttotal: 56.6s\tremaining: 11.1s\n",
      "299:\tlearn: 1391.9132463\ttotal: 1m 8s\tremaining: 0us\n",
      "Wall time: 1min 9s\n"
     ]
    },
    {
     "data": {
      "text/plain": [
       "<catboost.core.CatBoostRegressor at 0x248c3d847f0>"
      ]
     },
     "execution_count": 33,
     "metadata": {},
     "output_type": "execute_result"
    }
   ],
   "source": [
    "%%time\n",
    "\n",
    "CBR = CatBoostRegressor(loss_function=\"RMSE\", iterations=300, depth=9, verbose=100)\n",
    "\n",
    "CBR.fit(features_train, target_train, cat_features=cat_features, verbose=50)"
   ]
  },
  {
   "cell_type": "code",
   "execution_count": 34,
   "metadata": {},
   "outputs": [
    {
     "name": "stdout",
     "output_type": "stream",
     "text": [
      "Learning rate set to 0.236348\n",
      "0:\tlearn: 3941.8156566\ttotal: 49.6ms\tremaining: 14.8s\n",
      "100:\tlearn: 1563.4796933\ttotal: 4.16s\tremaining: 8.19s\n",
      "200:\tlearn: 1469.0809781\ttotal: 8.26s\tremaining: 4.07s\n",
      "299:\tlearn: 1420.1983119\ttotal: 13.4s\tremaining: 0us\n",
      "Learning rate set to 0.236348\n",
      "0:\tlearn: 3927.5748178\ttotal: 44.8ms\tremaining: 13.4s\n",
      "100:\tlearn: 1553.6188417\ttotal: 4.85s\tremaining: 9.56s\n",
      "200:\tlearn: 1468.5266455\ttotal: 8.9s\tremaining: 4.38s\n",
      "299:\tlearn: 1420.0355218\ttotal: 12.5s\tremaining: 0us\n",
      "Learning rate set to 0.236348\n",
      "0:\tlearn: 3929.7251469\ttotal: 39.6ms\tremaining: 11.9s\n",
      "100:\tlearn: 1551.8976627\ttotal: 3.74s\tremaining: 7.37s\n",
      "200:\tlearn: 1462.1593547\ttotal: 7.27s\tremaining: 3.58s\n",
      "299:\tlearn: 1413.6296884\ttotal: 10.6s\tremaining: 0us\n",
      "Learning rate set to 0.236348\n",
      "0:\tlearn: 3931.0502429\ttotal: 44.1ms\tremaining: 13.2s\n",
      "100:\tlearn: 1565.2856092\ttotal: 3.78s\tremaining: 7.45s\n",
      "200:\tlearn: 1474.5657219\ttotal: 7.28s\tremaining: 3.58s\n",
      "299:\tlearn: 1423.3657991\ttotal: 10.9s\tremaining: 0us\n",
      "Learning rate set to 0.236348\n",
      "0:\tlearn: 3932.1683388\ttotal: 44.8ms\tremaining: 13.4s\n",
      "100:\tlearn: 1554.5461703\ttotal: 3.71s\tremaining: 7.3s\n",
      "200:\tlearn: 1472.2509692\ttotal: 7.15s\tremaining: 3.52s\n",
      "299:\tlearn: 1419.6269600\ttotal: 10.7s\tremaining: 0us\n",
      "Cross-validation RMSE: 1537\n"
     ]
    }
   ],
   "source": [
    "cvs(CBR)"
   ]
  },
  {
   "cell_type": "code",
   "execution_count": 35,
   "metadata": {},
   "outputs": [
    {
     "name": "stdout",
     "output_type": "stream",
     "text": [
      "Wall time: 280 ms\n"
     ]
    }
   ],
   "source": [
    "%%time\n",
    "CBR_predictions_test = CBR.predict(features_test)"
   ]
  },
  {
   "cell_type": "code",
   "execution_count": 36,
   "metadata": {},
   "outputs": [
    {
     "name": "stdout",
     "output_type": "stream",
     "text": [
      "RMSE CatBoostRegressor: 1537\n"
     ]
    }
   ],
   "source": [
    "CBR_RMSE_3 = sqrt(mean_squared_error(target_test, CBR_predictions_test))\n",
    "print('RMSE CatBoostRegressor: {:.0f}'.format(CBR_RMSE_3))"
   ]
  },
  {
   "cell_type": "markdown",
   "metadata": {},
   "source": [
    "**Conclusion:** Increasing the tree depth increases the accuracy of predictions and at the same time increases the learning rate."
   ]
  },
  {
   "cell_type": "markdown",
   "metadata": {},
   "source": [
    "#### Learning rate"
   ]
  },
  {
   "cell_type": "code",
   "execution_count": 37,
   "metadata": {},
   "outputs": [
    {
     "name": "stdout",
     "output_type": "stream",
     "text": [
      "0:\tlearn: 3278.1261359\ttotal: 148ms\tremaining: 44.3s\n",
      "50:\tlearn: 1658.5674079\ttotal: 6.67s\tremaining: 32.5s\n",
      "100:\tlearn: 1585.1237595\ttotal: 13s\tremaining: 25.6s\n",
      "150:\tlearn: 1549.7767196\ttotal: 19.4s\tremaining: 19.2s\n",
      "200:\tlearn: 1522.5899014\ttotal: 26.6s\tremaining: 13.1s\n",
      "250:\tlearn: 1502.3194917\ttotal: 33.8s\tremaining: 6.59s\n",
      "299:\tlearn: 1484.4374615\ttotal: 40.9s\tremaining: 0us\n",
      "Wall time: 41.7 s\n"
     ]
    },
    {
     "data": {
      "text/plain": [
       "<catboost.core.CatBoostRegressor at 0x248c3d77880>"
      ]
     },
     "execution_count": 37,
     "metadata": {},
     "output_type": "execute_result"
    }
   ],
   "source": [
    "%%time\n",
    "\n",
    "CBR = CatBoostRegressor(loss_function=\"RMSE\", iterations=300, verbose=100, learning_rate = 0.5)\n",
    "\n",
    "CBR.fit(features_train, target_train, cat_features=cat_features, verbose=50)"
   ]
  },
  {
   "cell_type": "code",
   "execution_count": 38,
   "metadata": {},
   "outputs": [
    {
     "name": "stdout",
     "output_type": "stream",
     "text": [
      "Wall time: 201 ms\n"
     ]
    }
   ],
   "source": [
    "%%time\n",
    "CBR_predictions_test = CBR.predict(features_test)"
   ]
  },
  {
   "cell_type": "code",
   "execution_count": 39,
   "metadata": {},
   "outputs": [
    {
     "name": "stdout",
     "output_type": "stream",
     "text": [
      "RMSE CatBoostRegressor: 1576\n"
     ]
    }
   ],
   "source": [
    "CBR_RMSE_4 = sqrt(mean_squared_error(target_test, CBR_predictions_test))\n",
    "print('RMSE CatBoostRegressor: {:.0f}'.format(CBR_RMSE_4))"
   ]
  },
  {
   "cell_type": "code",
   "execution_count": 40,
   "metadata": {
    "scrolled": true
   },
   "outputs": [
    {
     "name": "stdout",
     "output_type": "stream",
     "text": [
      "0:\tlearn: 2629.0640323\ttotal: 138ms\tremaining: 41.1s\n",
      "50:\tlearn: 1642.5701852\ttotal: 6.74s\tremaining: 32.9s\n",
      "100:\tlearn: 1565.5736692\ttotal: 13.3s\tremaining: 26.1s\n",
      "150:\tlearn: 1524.8042195\ttotal: 19.8s\tremaining: 19.5s\n",
      "200:\tlearn: 1494.4761181\ttotal: 26.3s\tremaining: 13s\n",
      "250:\tlearn: 1474.3429089\ttotal: 32.8s\tremaining: 6.39s\n",
      "299:\tlearn: 1453.2276654\ttotal: 39s\tremaining: 0us\n",
      "Wall time: 39.8 s\n"
     ]
    },
    {
     "data": {
      "text/plain": [
       "<catboost.core.CatBoostRegressor at 0x248c3d6cb50>"
      ]
     },
     "execution_count": 40,
     "metadata": {},
     "output_type": "execute_result"
    }
   ],
   "source": [
    "%%time\n",
    "\n",
    "CBR = CatBoostRegressor(loss_function=\"RMSE\", iterations=300, verbose=100, learning_rate = 1)\n",
    "\n",
    "CBR.fit(features_train, target_train, cat_features=cat_features, verbose=50)"
   ]
  },
  {
   "cell_type": "code",
   "execution_count": 41,
   "metadata": {},
   "outputs": [
    {
     "name": "stdout",
     "output_type": "stream",
     "text": [
      "0:\tlearn: 2638.4350063\ttotal: 21.6ms\tremaining: 6.45s\n",
      "100:\tlearn: 1542.8600488\ttotal: 2.4s\tremaining: 4.74s\n",
      "200:\tlearn: 1451.2153799\ttotal: 4.73s\tremaining: 2.33s\n",
      "299:\tlearn: 1399.3256312\ttotal: 6.84s\tremaining: 0us\n",
      "0:\tlearn: 2603.4502829\ttotal: 29.5ms\tremaining: 8.84s\n",
      "100:\tlearn: 1535.3342366\ttotal: 2.49s\tremaining: 4.9s\n",
      "200:\tlearn: 1450.0429881\ttotal: 4.58s\tremaining: 2.25s\n",
      "299:\tlearn: 1396.6947213\ttotal: 6.99s\tremaining: 0us\n",
      "0:\tlearn: 2597.8307829\ttotal: 25.9ms\tremaining: 7.73s\n",
      "100:\tlearn: 1529.2409897\ttotal: 2.33s\tremaining: 4.59s\n",
      "200:\tlearn: 1439.9172250\ttotal: 4.7s\tremaining: 2.31s\n",
      "299:\tlearn: 1393.0330978\ttotal: 7.09s\tremaining: 0us\n",
      "0:\tlearn: 2597.4122327\ttotal: 20.9ms\tremaining: 6.25s\n",
      "100:\tlearn: 1541.6964786\ttotal: 2.21s\tremaining: 4.35s\n",
      "200:\tlearn: 1456.2840406\ttotal: 4.68s\tremaining: 2.31s\n",
      "299:\tlearn: 1403.8362569\ttotal: 6.94s\tremaining: 0us\n",
      "0:\tlearn: 2596.8374387\ttotal: 39.7ms\tremaining: 11.9s\n",
      "100:\tlearn: 1541.4359868\ttotal: 2.65s\tremaining: 5.22s\n",
      "200:\tlearn: 1450.1384799\ttotal: 4.77s\tremaining: 2.35s\n",
      "299:\tlearn: 1398.3268684\ttotal: 6.97s\tremaining: 0us\n",
      "Cross-validation RMSE: 1573\n"
     ]
    }
   ],
   "source": [
    "cvs(CBR)"
   ]
  },
  {
   "cell_type": "code",
   "execution_count": 42,
   "metadata": {},
   "outputs": [
    {
     "name": "stdout",
     "output_type": "stream",
     "text": [
      "Wall time: 256 ms\n"
     ]
    }
   ],
   "source": [
    "%%time\n",
    "CBR_predictions_test = CBR.predict(features_test)"
   ]
  },
  {
   "cell_type": "code",
   "execution_count": 43,
   "metadata": {},
   "outputs": [
    {
     "name": "stdout",
     "output_type": "stream",
     "text": [
      "RMSE CatBoostRegressor: 1594\n"
     ]
    }
   ],
   "source": [
    "CBR_RMSE_5 = sqrt(mean_squared_error(target_test, CBR_predictions_test))\n",
    "print('RMSE CatBoostRegressor: {:.0f}'.format(CBR_RMSE_5))"
   ]
  },
  {
   "cell_type": "markdown",
   "metadata": {},
   "source": [
    "**Conclusion:** With an increase in the learning rate, when training the model, a lower rmse indicator is displayed, but this is not confirmed on the validation data, which indicates overfitting of the model."
   ]
  },
  {
   "cell_type": "markdown",
   "metadata": {},
   "source": [
    "## LightGBM"
   ]
  },
  {
   "cell_type": "code",
   "execution_count": 44,
   "metadata": {},
   "outputs": [],
   "source": [
    "y_train = target_train_ohe.values\n",
    "y_test = target_test_ohe.values\n",
    "X_train = features_train_ohe.values\n",
    "X_test = features_test_ohe.values\n",
    "\n",
    "# create dataset for lightgbm\n",
    "lgb_train = lgb.Dataset(X_train, y_train, categorical_feature=ohe_cat_features)\n",
    "lgb_eval = lgb.Dataset(X_test, y_test, reference=lgb_train)"
   ]
  },
  {
   "cell_type": "code",
   "execution_count": 45,
   "metadata": {},
   "outputs": [],
   "source": [
    "# train\n",
    "gbm = lgb.LGBMRegressor(boosting_type='gbdt',\n",
    "                        metric='rmse',\n",
    "                        num_leaves=31,\n",
    "                        learning_rate=0.05,\n",
    "                        n_estimators=300,\n",
    "                        bagging_freq= 5,\n",
    "                        random_state=42,\n",
    "                        )"
   ]
  },
  {
   "cell_type": "code",
   "execution_count": 46,
   "metadata": {},
   "outputs": [
    {
     "name": "stdout",
     "output_type": "stream",
     "text": [
      "[LightGBM] [Warning] bagging_freq is set=5, subsample_freq=0 will be ignored. Current value: bagging_freq=5\n",
      "Training until validation scores don't improve for 5 rounds\n",
      "[20]\tvalid_0's rmse: 2665.73\n",
      "[40]\tvalid_0's rmse: 2080.22\n",
      "[60]\tvalid_0's rmse: 1875.59\n",
      "[80]\tvalid_0's rmse: 1791.1\n",
      "[100]\tvalid_0's rmse: 1742.7\n",
      "[120]\tvalid_0's rmse: 1712.57\n",
      "[140]\tvalid_0's rmse: 1692.43\n",
      "[160]\tvalid_0's rmse: 1678.16\n",
      "[180]\tvalid_0's rmse: 1666.22\n",
      "[200]\tvalid_0's rmse: 1655.49\n",
      "[220]\tvalid_0's rmse: 1645.24\n",
      "[240]\tvalid_0's rmse: 1637.13\n",
      "[260]\tvalid_0's rmse: 1630.93\n",
      "[280]\tvalid_0's rmse: 1624.68\n",
      "[300]\tvalid_0's rmse: 1618.66\n",
      "Did not meet early stopping. Best iteration is:\n",
      "[300]\tvalid_0's rmse: 1618.66\n",
      "Wall time: 6.23 s\n"
     ]
    },
    {
     "data": {
      "text/plain": [
       "LGBMRegressor(bagging_freq=5, learning_rate=0.05, metric='rmse',\n",
       "              n_estimators=300, random_state=42)"
      ]
     },
     "execution_count": 46,
     "metadata": {},
     "output_type": "execute_result"
    }
   ],
   "source": [
    "%%time\n",
    "gbm.fit(X_train, y_train,\n",
    "        eval_set=[(X_test, y_test)],\n",
    "        eval_metric='rmse',\n",
    "        early_stopping_rounds=5,\n",
    "        verbose=20\n",
    "       )"
   ]
  },
  {
   "cell_type": "code",
   "execution_count": 47,
   "metadata": {},
   "outputs": [
    {
     "name": "stdout",
     "output_type": "stream",
     "text": [
      "[LightGBM] [Warning] bagging_freq is set=5, subsample_freq=0 will be ignored. Current value: bagging_freq=5\n",
      "[LightGBM] [Warning] bagging_freq is set=5, subsample_freq=0 will be ignored. Current value: bagging_freq=5\n",
      "[LightGBM] [Warning] bagging_freq is set=5, subsample_freq=0 will be ignored. Current value: bagging_freq=5\n",
      "[LightGBM] [Warning] bagging_freq is set=5, subsample_freq=0 will be ignored. Current value: bagging_freq=5\n",
      "Cross-validation RMSE: 1616\n"
     ]
    }
   ],
   "source": [
    "cvs(gbm)"
   ]
  },
  {
   "cell_type": "markdown",
   "metadata": {},
   "source": [
    "Let's try to increase the learning rate parameter:"
   ]
  },
  {
   "cell_type": "code",
   "execution_count": 48,
   "metadata": {},
   "outputs": [],
   "source": [
    "gbm = lgb.LGBMRegressor(boosting_type='gbdt',\n",
    "                        metric='rmse',\n",
    "                        num_leaves=10,\n",
    "                        learning_rate=0.2,\n",
    "                        n_estimators=300,\n",
    "                        bagging_freq= 5,\n",
    "                        random_state=42,\n",
    "                        )"
   ]
  },
  {
   "cell_type": "code",
   "execution_count": 49,
   "metadata": {},
   "outputs": [
    {
     "name": "stdout",
     "output_type": "stream",
     "text": [
      "[LightGBM] [Warning] bagging_freq is set=5, subsample_freq=0 will be ignored. Current value: bagging_freq=5\n",
      "Training until validation scores don't improve for 5 rounds\n",
      "[20]\tvalid_0's rmse: 1956.02\n",
      "[40]\tvalid_0's rmse: 1827\n",
      "[60]\tvalid_0's rmse: 1775.57\n",
      "[80]\tvalid_0's rmse: 1742.46\n",
      "[100]\tvalid_0's rmse: 1722.1\n",
      "[120]\tvalid_0's rmse: 1704.87\n",
      "[140]\tvalid_0's rmse: 1692.4\n",
      "[160]\tvalid_0's rmse: 1678.37\n",
      "[180]\tvalid_0's rmse: 1668.35\n",
      "[200]\tvalid_0's rmse: 1658.76\n",
      "[220]\tvalid_0's rmse: 1652.46\n",
      "[240]\tvalid_0's rmse: 1644.66\n",
      "[260]\tvalid_0's rmse: 1639.81\n",
      "[280]\tvalid_0's rmse: 1631.51\n",
      "[300]\tvalid_0's rmse: 1627.02\n",
      "Did not meet early stopping. Best iteration is:\n",
      "[300]\tvalid_0's rmse: 1627.02\n",
      "Wall time: 3.65 s\n"
     ]
    },
    {
     "data": {
      "text/plain": [
       "LGBMRegressor(bagging_freq=5, learning_rate=0.2, metric='rmse',\n",
       "              n_estimators=300, num_leaves=10, random_state=42)"
      ]
     },
     "execution_count": 49,
     "metadata": {},
     "output_type": "execute_result"
    }
   ],
   "source": [
    "%%time\n",
    "gbm.fit(X_train, y_train,\n",
    "        eval_set=[(X_test, y_test)],\n",
    "        eval_metric='rmse',\n",
    "        early_stopping_rounds=5,\n",
    "        verbose=20\n",
    "       )"
   ]
  },
  {
   "cell_type": "code",
   "execution_count": 50,
   "metadata": {},
   "outputs": [
    {
     "name": "stdout",
     "output_type": "stream",
     "text": [
      "[LightGBM] [Warning] bagging_freq is set=5, subsample_freq=0 will be ignored. Current value: bagging_freq=5\n",
      "[LightGBM] [Warning] bagging_freq is set=5, subsample_freq=0 will be ignored. Current value: bagging_freq=5\n",
      "[LightGBM] [Warning] bagging_freq is set=5, subsample_freq=0 will be ignored. Current value: bagging_freq=5\n",
      "[LightGBM] [Warning] bagging_freq is set=5, subsample_freq=0 will be ignored. Current value: bagging_freq=5\n",
      "Cross-validation RMSE: 1622\n"
     ]
    }
   ],
   "source": [
    "cvs(gbm)"
   ]
  },
  {
   "cell_type": "markdown",
   "metadata": {},
   "source": [
    "## LinearRegression"
   ]
  },
  {
   "cell_type": "code",
   "execution_count": 51,
   "metadata": {},
   "outputs": [
    {
     "name": "stdout",
     "output_type": "stream",
     "text": [
      "Wall time: 4.06 s\n"
     ]
    },
    {
     "data": {
      "text/plain": [
       "LinearRegression()"
      ]
     },
     "execution_count": 51,
     "metadata": {},
     "output_type": "execute_result"
    }
   ],
   "source": [
    "%%time\n",
    "LR = LinearRegression()\n",
    "LR.fit(features_train_ohe, target_train_ohe)"
   ]
  },
  {
   "cell_type": "code",
   "execution_count": 52,
   "metadata": {},
   "outputs": [
    {
     "name": "stdout",
     "output_type": "stream",
     "text": [
      "Cross-validation RMSE: 2684\n"
     ]
    }
   ],
   "source": [
    "cvs(LR)"
   ]
  },
  {
   "cell_type": "code",
   "execution_count": 53,
   "metadata": {},
   "outputs": [
    {
     "name": "stdout",
     "output_type": "stream",
     "text": [
      "Wall time: 126 ms\n"
     ]
    }
   ],
   "source": [
    "%%time\n",
    "LR_predictions_test = LR.predict(features_test_ohe)"
   ]
  },
  {
   "cell_type": "code",
   "execution_count": 54,
   "metadata": {},
   "outputs": [
    {
     "name": "stdout",
     "output_type": "stream",
     "text": [
      "RMSE LinearRegression: 2668\n"
     ]
    }
   ],
   "source": [
    "LR_RMSE = sqrt(mean_squared_error(target_test_ohe, LR_predictions_test))\n",
    "print('RMSE LinearRegression: {:.0f}'.format(LR_RMSE))"
   ]
  },
  {
   "cell_type": "markdown",
   "metadata": {},
   "source": [
    "## RandomForestRegressor"
   ]
  },
  {
   "cell_type": "code",
   "execution_count": 55,
   "metadata": {},
   "outputs": [
    {
     "name": "stdout",
     "output_type": "stream",
     "text": [
      "Wall time: 8min 36s\n"
     ]
    },
    {
     "data": {
      "text/plain": [
       "RandomForestRegressor(max_depth=20, random_state=42)"
      ]
     },
     "execution_count": 55,
     "metadata": {},
     "output_type": "execute_result"
    }
   ],
   "source": [
    "%%time\n",
    "RFR = RandomForestRegressor(max_depth=20, n_estimators=100, random_state=42)\n",
    "RFR.fit(features_train_ohe, target_train_ohe)"
   ]
  },
  {
   "cell_type": "code",
   "execution_count": 56,
   "metadata": {},
   "outputs": [
    {
     "name": "stdout",
     "output_type": "stream",
     "text": [
      "Cross-validation RMSE: 1585\n"
     ]
    }
   ],
   "source": [
    "cvs(RFR)"
   ]
  },
  {
   "cell_type": "code",
   "execution_count": 57,
   "metadata": {},
   "outputs": [
    {
     "name": "stdout",
     "output_type": "stream",
     "text": [
      "Wall time: 1.82 s\n"
     ]
    }
   ],
   "source": [
    "%%time\n",
    "RFR_predictions_test = RFR.predict(features_test_ohe)"
   ]
  },
  {
   "cell_type": "code",
   "execution_count": 58,
   "metadata": {},
   "outputs": [
    {
     "name": "stdout",
     "output_type": "stream",
     "text": [
      "RMSE RandomForestRegressor: 1577\n"
     ]
    }
   ],
   "source": [
    "RFR_RMSE = sqrt(mean_squared_error(target_test_ohe, RFR_predictions_test))\n",
    "print('RMSE RandomForestRegressor: {:.0f}'.format(RFR_RMSE))"
   ]
  },
  {
   "cell_type": "markdown",
   "metadata": {},
   "source": [
    "## DecisionTreeRegressor"
   ]
  },
  {
   "cell_type": "code",
   "execution_count": 59,
   "metadata": {},
   "outputs": [
    {
     "name": "stdout",
     "output_type": "stream",
     "text": [
      "Wall time: 7.56 s\n"
     ]
    },
    {
     "data": {
      "text/plain": [
       "DecisionTreeRegressor(random_state=42)"
      ]
     },
     "execution_count": 59,
     "metadata": {},
     "output_type": "execute_result"
    }
   ],
   "source": [
    "%%time\n",
    "DTR = DecisionTreeRegressor(random_state=42)\n",
    "DTR.fit(features_train_ohe, target_train_ohe)"
   ]
  },
  {
   "cell_type": "code",
   "execution_count": 60,
   "metadata": {},
   "outputs": [],
   "source": [
    "# cvs(DTR)\n",
    "# Cross-validation RMSE: 1854"
   ]
  },
  {
   "cell_type": "code",
   "execution_count": 61,
   "metadata": {},
   "outputs": [
    {
     "name": "stdout",
     "output_type": "stream",
     "text": [
      "Wall time: 162 ms\n"
     ]
    }
   ],
   "source": [
    "%%time\n",
    "DTR_predictions_test = DTR.predict(features_test_ohe)"
   ]
  },
  {
   "cell_type": "code",
   "execution_count": 62,
   "metadata": {},
   "outputs": [
    {
     "name": "stdout",
     "output_type": "stream",
     "text": [
      "RMSE модели DecisionTreeRegressor: 1825\n"
     ]
    }
   ],
   "source": [
    "DTR_RMSE = sqrt(mean_squared_error(target_test_ohe, DTR_predictions_test))\n",
    "print('RMSE модели DecisionTreeRegressor: {:.0f}'.format(DTR_RMSE))"
   ]
  },
  {
   "cell_type": "markdown",
   "metadata": {},
   "source": [
    "## DummyRegressor"
   ]
  },
  {
   "cell_type": "code",
   "execution_count": 63,
   "metadata": {},
   "outputs": [
    {
     "name": "stdout",
     "output_type": "stream",
     "text": [
      "RMSE модели DummyRegressor: 4700\n",
      "\n",
      "Wall time: 2.99 ms\n"
     ]
    }
   ],
   "source": [
    "%%time\n",
    "\n",
    "DR = DummyRegressor(strategy=\"mean\")\n",
    "DR.fit(features_train_ohe, target_train_ohe)\n",
    "\n",
    "DR_predictions_test = DR.predict(features_test_ohe)\n",
    "\n",
    "DR_RMSE = sqrt(mean_squared_error(target_test_ohe, DR_predictions_test))\n",
    "\n",
    "print('RMSE модели DummyRegressor: {:.0f}'.format(DR_RMSE))\n",
    "print()"
   ]
  },
  {
   "cell_type": "markdown",
   "metadata": {},
   "source": [
    "# Comparing models"
   ]
  },
  {
   "cell_type": "code",
   "execution_count": 64,
   "metadata": {},
   "outputs": [],
   "source": [
    "models = {'model_name': ['CatBoostRegressor', 'CatBoostRegressor_tuned', 'LightGBM', \n",
    "                         'LightGBM_tuned', 'LinearRegression', 'RandomForestRegressor', \n",
    "                         'DecisionTreeRegressor', 'DummyRegressor'],\n",
    "            'test_rmse': [CBR_RMSE, CBR_RMSE_3, 1618, 1627, LR_RMSE, RFR_RMSE, DTR_RMSE, DR_RMSE],\n",
    "            'fit_wall_time_sec': [183, 270, 72, 19, 20, 375, 8, 2],\n",
    "            'predict_wall_time': [0.4, 0.6, 0, 0, 0.2, 2.4, 0.2, 0]\n",
    "           }"
   ]
  },
  {
   "cell_type": "code",
   "execution_count": 65,
   "metadata": {},
   "outputs": [],
   "source": [
    "models_df = pd.DataFrame (models, columns = [\n",
    "    'model_name','test_rmse', 'fit_wall_time_sec', 'predict_wall_time'])"
   ]
  },
  {
   "cell_type": "code",
   "execution_count": 66,
   "metadata": {},
   "outputs": [
    {
     "data": {
      "text/html": [
       "<div>\n",
       "<style scoped>\n",
       "    .dataframe tbody tr th:only-of-type {\n",
       "        vertical-align: middle;\n",
       "    }\n",
       "\n",
       "    .dataframe tbody tr th {\n",
       "        vertical-align: top;\n",
       "    }\n",
       "\n",
       "    .dataframe thead th {\n",
       "        text-align: right;\n",
       "    }\n",
       "</style>\n",
       "<table border=\"1\" class=\"dataframe\">\n",
       "  <thead>\n",
       "    <tr style=\"text-align: right;\">\n",
       "      <th></th>\n",
       "      <th>model_name</th>\n",
       "      <th>test_rmse</th>\n",
       "      <th>fit_wall_time_sec</th>\n",
       "      <th>predict_wall_time</th>\n",
       "    </tr>\n",
       "  </thead>\n",
       "  <tbody>\n",
       "    <tr>\n",
       "      <th>1</th>\n",
       "      <td>CatBoostRegressor_tuned</td>\n",
       "      <td>1537.259110</td>\n",
       "      <td>270</td>\n",
       "      <td>0.6</td>\n",
       "    </tr>\n",
       "    <tr>\n",
       "      <th>5</th>\n",
       "      <td>RandomForestRegressor</td>\n",
       "      <td>1576.619167</td>\n",
       "      <td>375</td>\n",
       "      <td>2.4</td>\n",
       "    </tr>\n",
       "    <tr>\n",
       "      <th>0</th>\n",
       "      <td>CatBoostRegressor</td>\n",
       "      <td>1586.665652</td>\n",
       "      <td>183</td>\n",
       "      <td>0.4</td>\n",
       "    </tr>\n",
       "    <tr>\n",
       "      <th>2</th>\n",
       "      <td>LightGBM</td>\n",
       "      <td>1618.000000</td>\n",
       "      <td>72</td>\n",
       "      <td>0.0</td>\n",
       "    </tr>\n",
       "    <tr>\n",
       "      <th>3</th>\n",
       "      <td>LightGBM_tuned</td>\n",
       "      <td>1627.000000</td>\n",
       "      <td>19</td>\n",
       "      <td>0.0</td>\n",
       "    </tr>\n",
       "    <tr>\n",
       "      <th>6</th>\n",
       "      <td>DecisionTreeRegressor</td>\n",
       "      <td>1825.273542</td>\n",
       "      <td>8</td>\n",
       "      <td>0.2</td>\n",
       "    </tr>\n",
       "    <tr>\n",
       "      <th>4</th>\n",
       "      <td>LinearRegression</td>\n",
       "      <td>2667.535370</td>\n",
       "      <td>20</td>\n",
       "      <td>0.2</td>\n",
       "    </tr>\n",
       "    <tr>\n",
       "      <th>7</th>\n",
       "      <td>DummyRegressor</td>\n",
       "      <td>4700.461464</td>\n",
       "      <td>2</td>\n",
       "      <td>0.0</td>\n",
       "    </tr>\n",
       "  </tbody>\n",
       "</table>\n",
       "</div>"
      ],
      "text/plain": [
       "                model_name    test_rmse  fit_wall_time_sec  predict_wall_time\n",
       "1  CatBoostRegressor_tuned  1537.259110                270                0.6\n",
       "5    RandomForestRegressor  1576.619167                375                2.4\n",
       "0        CatBoostRegressor  1586.665652                183                0.4\n",
       "2                 LightGBM  1618.000000                 72                0.0\n",
       "3           LightGBM_tuned  1627.000000                 19                0.0\n",
       "6    DecisionTreeRegressor  1825.273542                  8                0.2\n",
       "4         LinearRegression  2667.535370                 20                0.2\n",
       "7           DummyRegressor  4700.461464                  2                0.0"
      ]
     },
     "execution_count": 66,
     "metadata": {},
     "output_type": "execute_result"
    }
   ],
   "source": [
    "models_df.sort_values(by = 'test_rmse', ascending = True)"
   ]
  },
  {
   "cell_type": "markdown",
   "metadata": {},
   "source": [
    "**Conclusion**: Models RandomForestRegressor, CatBoostRegressor, LightGBM, LightGBM_tuned, CatBoostRegressor_tuned show approximately the same result.\n",
    "  \n",
    "Therefore, choosing from these models is worth the time. For business, I think, an important parameter is the time for prediction, because long waiting times for the prediction will have a negative impact on the usability for customers.\n",
    "  \n",
    "The time to train the model, I think, does not play a strong role as long as it is within reason.\n"
   ]
  },
  {
   "cell_type": "markdown",
   "metadata": {},
   "source": [
    "Total:\n",
    "- the most accurate prediction is made by the RandomForestRegressor model, it is also the slowest\n",
    "- the fastest learning from the top 5 models for the LightGBM model with an increased learning rate\n",
    "- from the top 5, the prediction time of all models except RandomForestRegressor seems to be acceptable for our task\n",
    "- all our models are significantly superior in quality to the constant model"
   ]
  },
  {
   "cell_type": "markdown",
   "metadata": {},
   "source": [
    "Of the models reviewed, I would stick with **LightGBM**"
   ]
  }
 ],
 "metadata": {
  "kernelspec": {
   "display_name": "Python 3",
   "language": "python",
   "name": "python3"
  },
  "language_info": {
   "codemirror_mode": {
    "name": "ipython",
    "version": 3
   },
   "file_extension": ".py",
   "mimetype": "text/x-python",
   "name": "python",
   "nbconvert_exporter": "python",
   "pygments_lexer": "ipython3",
   "version": "3.8.5"
  },
  "toc": {
   "base_numbering": 1,
   "nav_menu": {},
   "number_sections": true,
   "sideBar": true,
   "skip_h1_title": false,
   "title_cell": "Table of Contents",
   "title_sidebar": "Contents",
   "toc_cell": true,
   "toc_position": {},
   "toc_section_display": true,
   "toc_window_display": true
  }
 },
 "nbformat": 4,
 "nbformat_minor": 2
}
